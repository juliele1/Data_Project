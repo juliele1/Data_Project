{
 "cells": [
  {
   "cell_type": "markdown",
   "source": [
    "Projet de Machine Learning : Analyse des données DVF\n",
    "\n",
    "Mohammad Darmsy Ladha\n",
    "Matthieu Evuort\n",
    "Julie Chen\n",
    "\n",
    "\n",
    "Introduction :\n",
    "\n",
    "Le machine learning est une technique informatique qui permet à une machine d'apprendre à partir de données, sans qu'un programme spécifique lui soit directement programmé. Le principe est de fournir à l'algorithme un grand nombre d'exemples pour qu'il apprenne à identifier des modèles et à prendre des décisions à partir de ces modèles. Le machine learning est utilisé dans de nombreux domaines, tels que la reconnaissance de formes, la classification de données, la détection de fraudes, la recommandation de produits, la traduction de langues, la reconnaissance vocale ou encore la conduite autonome.\n",
    "\n",
    "Ce projet consiste à expliquer le prix de la valeur foncière en France selon une multitude de facteurs. On peut citer le code postal, surface terrain, surface réelle batie...\n",
    "\n",
    " Pour cela, nous allons utiliser plusieurs méthodes afin de préparer nos données, de les analyser et de les modéliser grâce aux TP que nous avons pu effectuer en cours, mais ainsi qu'à la documentation d'internet.\n",
    "\n",
    "Sommaire :\n",
    "\n",
    "A) Préparation des données\n",
    "B) Analyse exploratoire des données\n",
    "C) Modélisation des données\n",
    "D) Evaluation des modèles\n",
    "\n",
    "\n",
    "A) Préparation des données\n",
    "\n",
    "Afin de préparer nos données, nous allons supprimer les colonnes comprenant de nombreuses valeurs nulles. En effet, lorsqu'une colonne présente plus de 90% il est mieux de la supprimer, car compléter toutes les valeurs manquantes peut créer un biais dans l'analyse."
   ],
   "metadata": {
    "collapsed": false
   }
  },
  {
   "cell_type": "code",
   "execution_count": 5,
   "outputs": [
    {
     "name": "stderr",
     "output_type": "stream",
     "text": [
      "/var/folders/29/jk9lm8hj2fxf5p1bbvw0cv5c0000gn/T/ipykernel_6952/1611357360.py:4: DtypeWarning: Columns (18,23,24,26,28,29,31,33,41) have mixed types. Specify dtype option on import or set low_memory=False.\n",
      "  data = pd.read_csv(\"./data/valeursfoncieres-2022.txt\", delimiter='|')\n"
     ]
    },
    {
     "name": "stdout",
     "output_type": "stream",
     "text": [
      "         Identifiant de document  Reference document  1 Articles CGI  \\\n",
      "0                            NaN                 NaN             NaN   \n",
      "1                            NaN                 NaN             NaN   \n",
      "2                            NaN                 NaN             NaN   \n",
      "3                            NaN                 NaN             NaN   \n",
      "4                            NaN                 NaN             NaN   \n",
      "...                          ...                 ...             ...   \n",
      "3803880                      NaN                 NaN             NaN   \n",
      "3803881                      NaN                 NaN             NaN   \n",
      "3803882                      NaN                 NaN             NaN   \n",
      "3803883                      NaN                 NaN             NaN   \n",
      "3803884                      NaN                 NaN             NaN   \n",
      "\n",
      "         2 Articles CGI  3 Articles CGI  4 Articles CGI  5 Articles CGI  \\\n",
      "0                   NaN             NaN             NaN             NaN   \n",
      "1                   NaN             NaN             NaN             NaN   \n",
      "2                   NaN             NaN             NaN             NaN   \n",
      "3                   NaN             NaN             NaN             NaN   \n",
      "4                   NaN             NaN             NaN             NaN   \n",
      "...                 ...             ...             ...             ...   \n",
      "3803880             NaN             NaN             NaN             NaN   \n",
      "3803881             NaN             NaN             NaN             NaN   \n",
      "3803882             NaN             NaN             NaN             NaN   \n",
      "3803883             NaN             NaN             NaN             NaN   \n",
      "3803884             NaN             NaN             NaN             NaN   \n",
      "\n",
      "         No disposition Date mutation Nature mutation  ...  \\\n",
      "0                     1    03/01/2022           Vente  ...   \n",
      "1                     1    03/01/2022           Vente  ...   \n",
      "2                     1    03/01/2022           Vente  ...   \n",
      "3                     1    03/01/2022           Vente  ...   \n",
      "4                     1    04/01/2022           Vente  ...   \n",
      "...                 ...           ...             ...  ...   \n",
      "3803880               1    30/12/2022           Vente  ...   \n",
      "3803881               1    19/12/2022           Vente  ...   \n",
      "3803882               1    19/12/2022           Vente  ...   \n",
      "3803883               1    30/12/2022           Vente  ...   \n",
      "3803884               1    21/11/2022           Vente  ...   \n",
      "\n",
      "        Surface Carrez du 5eme lot  Nombre de lots Code type local  \\\n",
      "0                              NaN               1             2.0   \n",
      "1                              NaN               0             NaN   \n",
      "2                              NaN               0             NaN   \n",
      "3                              NaN               1             2.0   \n",
      "4                              NaN               0             NaN   \n",
      "...                            ...             ...             ...   \n",
      "3803880                        NaN               1             4.0   \n",
      "3803881                        NaN               2             3.0   \n",
      "3803882                        NaN               2             2.0   \n",
      "3803883                        NaN               1             3.0   \n",
      "3803884                        NaN               1             3.0   \n",
      "\n",
      "                                       Type local Identifiant local  \\\n",
      "0                                     Appartement               NaN   \n",
      "1                                             NaN               NaN   \n",
      "2                                             NaN               NaN   \n",
      "3                                     Appartement               NaN   \n",
      "4                                             NaN               NaN   \n",
      "...                                           ...               ...   \n",
      "3803880  Local industriel. commercial ou assimilé               NaN   \n",
      "3803881                                Dépendance               NaN   \n",
      "3803882                               Appartement               NaN   \n",
      "3803883                                Dépendance               NaN   \n",
      "3803884                                Dépendance               NaN   \n",
      "\n",
      "        Surface reelle bati  Nombre pieces principales Nature culture  \\\n",
      "0                      24.0                        1.0            NaN   \n",
      "1                       NaN                        NaN              S   \n",
      "2                       NaN                        NaN              S   \n",
      "3                     140.0                        3.0            NaN   \n",
      "4                       NaN                        NaN              T   \n",
      "...                     ...                        ...            ...   \n",
      "3803880               327.0                        0.0            NaN   \n",
      "3803881                 0.0                        0.0            NaN   \n",
      "3803882                40.0                        3.0            NaN   \n",
      "3803883                 0.0                        0.0            NaN   \n",
      "3803884                 0.0                        0.0            NaN   \n",
      "\n",
      "        Nature culture speciale  Surface terrain  \n",
      "0                           NaN              NaN  \n",
      "1                           NaN             84.0  \n",
      "2                           NaN             88.0  \n",
      "3                           NaN              NaN  \n",
      "4                           NaN            510.0  \n",
      "...                         ...              ...  \n",
      "3803880                     NaN              NaN  \n",
      "3803881                     NaN              NaN  \n",
      "3803882                     NaN              NaN  \n",
      "3803883                     NaN              NaN  \n",
      "3803884                     NaN              NaN  \n",
      "\n",
      "[3803885 rows x 43 columns]\n"
     ]
    }
   ],
   "source": [
    "import pandas as pd\n",
    "from matplotlib import pyplot as plt\n",
    "import seaborn as sns\n",
    "data = pd.read_csv(\"./data/valeursfoncieres-2022.txt\", delimiter='|')\n",
    "print(data)"
   ],
   "metadata": {
    "collapsed": false,
    "ExecuteTime": {
     "start_time": "2023-06-21T16:24:14.439526Z",
     "end_time": "2023-06-21T16:25:07.992326Z"
    }
   }
  }
 ],
 "metadata": {
  "kernelspec": {
   "display_name": "Python 3",
   "language": "python",
   "name": "python3"
  },
  "language_info": {
   "codemirror_mode": {
    "name": "ipython",
    "version": 2
   },
   "file_extension": ".py",
   "mimetype": "text/x-python",
   "name": "python",
   "nbconvert_exporter": "python",
   "pygments_lexer": "ipython2",
   "version": "2.7.6"
  }
 },
 "nbformat": 4,
 "nbformat_minor": 0
}
