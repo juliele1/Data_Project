{
 "cells": [
  {
   "cell_type": "markdown",
   "source": [
    "Projet de Machine Learning : Analyse des données DVF\n",
    "\n",
    "Romain Foucher\n",
    "Matthieu Evuort\n",
    "Julie Chen\n",
    "\n",
    "\n",
    "Introduction :\n",
    "\n",
    "Le machine learning est une technique informatique qui permet à une machine d'apprendre à partir de données, sans qu'un programme spécifique lui soit directement programmé. Le principe est de fournir à l'algorithme un grand nombre d'exemples pour qu'il apprenne à identifier des modèles et à prendre des décisions à partir de ces modèles. Le machine learning est utilisé dans de nombreux domaines, tels que la reconnaissance de formes, la classification de données, la détection de fraudes, la recommandation de produits, la traduction de langues, la reconnaissance vocale ou encore la conduite autonome.\n",
    "\n",
    "Ce projet consiste à expliquer le prix de la valeur foncière en France selon une multitude de facteurs. On peut citer le code postal, surface terrain, surface réelle batie...\n",
    "\n",
    " Pour cela, nous allons utiliser plusieurs méthodes afin de préparer nos données, de les analyser et de les modéliser grâce aux TP que nous avons pu effectuer en cours, mais ainsi qu'à la documentation d'internet.\n",
    "\n",
    "Sommaire :\n",
    "\n",
    "A) Préparation des données\n",
    "B) Analyse exploratoire des données\n",
    "C) Modélisation des données\n",
    "D) Evaluation des modèles\n",
    "\n",
    "\n",
    "A) Préparation des données\n",
    "\n",
    "Afin de préparer nos données, nous allons supprimer les colonnes comprenant de nombreuses valeurs nulles. En effet, lorsqu'une colonne présente plus de 90% il est mieux de la supprimer, car compléter toutes les valeurs manquantes peut créer un biais dans l'analyse."
   ],
   "metadata": {
    "collapsed": false
   }
  }
 ],
 "metadata": {
  "kernelspec": {
   "display_name": "Python 3",
   "language": "python",
   "name": "python3"
  },
  "language_info": {
   "codemirror_mode": {
    "name": "ipython",
    "version": 2
   },
   "file_extension": ".py",
   "mimetype": "text/x-python",
   "name": "python",
   "nbconvert_exporter": "python",
   "pygments_lexer": "ipython2",
   "version": "2.7.6"
  }
 },
 "nbformat": 4,
 "nbformat_minor": 0
}
