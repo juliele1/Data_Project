{
 "cells": [
  {
   "cell_type": "markdown",
   "source": [
    "Projet DATA : Analyse des données DVF\n",
    "\n",
    "Mohammad Darmsy Ladha\n",
    "Doris Colin\n",
    "Julie Chen\n",
    "\n",
    "\n",
    "Introduction :\n",
    "\n",
    "Le machine learning est une technique informatique qui permet à une machine d'apprendre à partir de données, sans qu'un programme spécifique lui soit directement programmé. Le principe est de fournir à l'algorithme un grand nombre d'exemples pour qu'il apprenne à identifier des modèles et à prendre des décisions à partir de ces modèles. Le machine learning est utilisé dans de nombreux domaines, tels que la reconnaissance de formes, la classification de données, la détection de fraudes, la recommandation de produits, la traduction de langues, la reconnaissance vocale ou encore la conduite autonome.\n",
    "\n",
    "Ce projet consiste à expliquer le prix de la valeur foncière en France selon une multitude de facteurs. On peut citer le code postal, la surface terrain, la surface réelle batie...\n",
    "\n",
    " Pour cela, nous allons utiliser plusieurs méthodes afin de préparer nos données, de les analyser et de les modéliser grâce aux TD que nous avons pu effectuer en cours, mais ainsi qu'à la documentation d'internet.\n",
    "\n",
    "Sommaire :\n",
    "\n",
    "A) Préparation des données\n",
    "B) Analyse exploratoire des données\n",
    "C) Modélisation des données\n",
    "D) Evaluation des modèles\n",
    "\n",
    "\n",
    "A) Préparation des données\n",
    "\n",
    "Afin de préparer nos données, nous allons supprimer les colonnes comprenant de nombreuses valeurs nulles. En effet, lorsqu'une colonne présente plus de 90% il est mieux de la supprimer, car compléter toutes les valeurs manquantes peut créer un biais dans l'analyse. Pour cela, nous avons créé un algorithme qui permet de nous indiquer le pourcentage de valeurs nulles dans chaque colonne."
   ],
   "metadata": {
    "collapsed": false
   }
  },
  {
   "cell_type": "code",
   "execution_count": 73,
   "outputs": [
    {
     "name": "stderr",
     "output_type": "stream",
     "text": [
      "/var/folders/29/jk9lm8hj2fxf5p1bbvw0cv5c0000gn/T/ipykernel_6952/3966435294.py:4: DtypeWarning: Columns (18,23,24,26,28,29,31,33,41) have mixed types. Specify dtype option on import or set low_memory=False.\n",
      "  data = pd.read_csv(\"./data/valeursfoncieres-2022.txt\", delimiter='|')\n"
     ]
    },
    {
     "name": "stdout",
     "output_type": "stream",
     "text": [
      "         Identifiant de document  Reference document  1 Articles CGI  \\\n",
      "0                            NaN                 NaN             NaN   \n",
      "1                            NaN                 NaN             NaN   \n",
      "2                            NaN                 NaN             NaN   \n",
      "3                            NaN                 NaN             NaN   \n",
      "4                            NaN                 NaN             NaN   \n",
      "...                          ...                 ...             ...   \n",
      "3803880                      NaN                 NaN             NaN   \n",
      "3803881                      NaN                 NaN             NaN   \n",
      "3803882                      NaN                 NaN             NaN   \n",
      "3803883                      NaN                 NaN             NaN   \n",
      "3803884                      NaN                 NaN             NaN   \n",
      "\n",
      "         2 Articles CGI  3 Articles CGI  4 Articles CGI  5 Articles CGI  \\\n",
      "0                   NaN             NaN             NaN             NaN   \n",
      "1                   NaN             NaN             NaN             NaN   \n",
      "2                   NaN             NaN             NaN             NaN   \n",
      "3                   NaN             NaN             NaN             NaN   \n",
      "4                   NaN             NaN             NaN             NaN   \n",
      "...                 ...             ...             ...             ...   \n",
      "3803880             NaN             NaN             NaN             NaN   \n",
      "3803881             NaN             NaN             NaN             NaN   \n",
      "3803882             NaN             NaN             NaN             NaN   \n",
      "3803883             NaN             NaN             NaN             NaN   \n",
      "3803884             NaN             NaN             NaN             NaN   \n",
      "\n",
      "         No disposition Date mutation Nature mutation  ...  \\\n",
      "0                     1    03/01/2022           Vente  ...   \n",
      "1                     1    03/01/2022           Vente  ...   \n",
      "2                     1    03/01/2022           Vente  ...   \n",
      "3                     1    03/01/2022           Vente  ...   \n",
      "4                     1    04/01/2022           Vente  ...   \n",
      "...                 ...           ...             ...  ...   \n",
      "3803880               1    30/12/2022           Vente  ...   \n",
      "3803881               1    19/12/2022           Vente  ...   \n",
      "3803882               1    19/12/2022           Vente  ...   \n",
      "3803883               1    30/12/2022           Vente  ...   \n",
      "3803884               1    21/11/2022           Vente  ...   \n",
      "\n",
      "        Surface Carrez du 5eme lot  Nombre de lots Code type local  \\\n",
      "0                              NaN               1             2.0   \n",
      "1                              NaN               0             NaN   \n",
      "2                              NaN               0             NaN   \n",
      "3                              NaN               1             2.0   \n",
      "4                              NaN               0             NaN   \n",
      "...                            ...             ...             ...   \n",
      "3803880                        NaN               1             4.0   \n",
      "3803881                        NaN               2             3.0   \n",
      "3803882                        NaN               2             2.0   \n",
      "3803883                        NaN               1             3.0   \n",
      "3803884                        NaN               1             3.0   \n",
      "\n",
      "                                       Type local Identifiant local  \\\n",
      "0                                     Appartement               NaN   \n",
      "1                                             NaN               NaN   \n",
      "2                                             NaN               NaN   \n",
      "3                                     Appartement               NaN   \n",
      "4                                             NaN               NaN   \n",
      "...                                           ...               ...   \n",
      "3803880  Local industriel. commercial ou assimilé               NaN   \n",
      "3803881                                Dépendance               NaN   \n",
      "3803882                               Appartement               NaN   \n",
      "3803883                                Dépendance               NaN   \n",
      "3803884                                Dépendance               NaN   \n",
      "\n",
      "        Surface reelle bati  Nombre pieces principales Nature culture  \\\n",
      "0                      24.0                        1.0            NaN   \n",
      "1                       NaN                        NaN              S   \n",
      "2                       NaN                        NaN              S   \n",
      "3                     140.0                        3.0            NaN   \n",
      "4                       NaN                        NaN              T   \n",
      "...                     ...                        ...            ...   \n",
      "3803880               327.0                        0.0            NaN   \n",
      "3803881                 0.0                        0.0            NaN   \n",
      "3803882                40.0                        3.0            NaN   \n",
      "3803883                 0.0                        0.0            NaN   \n",
      "3803884                 0.0                        0.0            NaN   \n",
      "\n",
      "        Nature culture speciale  Surface terrain  \n",
      "0                           NaN              NaN  \n",
      "1                           NaN             84.0  \n",
      "2                           NaN             88.0  \n",
      "3                           NaN              NaN  \n",
      "4                           NaN            510.0  \n",
      "...                         ...              ...  \n",
      "3803880                     NaN              NaN  \n",
      "3803881                     NaN              NaN  \n",
      "3803882                     NaN              NaN  \n",
      "3803883                     NaN              NaN  \n",
      "3803884                     NaN              NaN  \n",
      "\n",
      "[3803885 rows x 43 columns]\n"
     ]
    }
   ],
   "source": [
    "import pandas as pd\n",
    "from matplotlib import pyplot as plt\n",
    "import seaborn as sns\n",
    "data = pd.read_csv(\"./data/valeursfoncieres-2022.txt\", delimiter='|')\n",
    "print(data)"
   ],
   "metadata": {
    "collapsed": false,
    "ExecuteTime": {
     "start_time": "2023-06-22T23:37:41.163902Z",
     "end_time": "2023-06-22T23:38:21.038365Z"
    }
   }
  },
  {
   "cell_type": "code",
   "execution_count": 66,
   "outputs": [
    {
     "name": "stdout",
     "output_type": "stream",
     "text": [
      "[['Identifiant de document', 100.0], ['Reference document', 100.0], ['1 Articles CGI', 100.0], ['2 Articles CGI', 100.0], ['3 Articles CGI', 100.0], ['4 Articles CGI', 100.0], ['5 Articles CGI', 100.0], ['No disposition', 0.0], ['Date mutation', 0.0], ['Nature mutation', 0.0], ['Valeur fonciere', 0.6498882063995101], ['No voie', 34.733621021666], ['B/T/Q', 95.3740189306459], ['Type de voie', 36.9842936892151], ['Code voie', 1.0263980115066569], ['Voie', 1.029289791883824], ['Code postal', 1.029815570134218], ['Commune', 0.0], ['Code departement', 0.0], ['Code commune', 0.0], ['Prefixe de section', 95.82429542428333], ['Section', 0.004074781440553539], ['No plan', 0.0], ['No Volume', 99.765792078362], ['1er lot', 66.63114158288171], ['Surface Carrez du 1er lot', 90.33256788783048], ['2eme lot', 89.535277748933], ['Surface Carrez du 2eme lot', 96.74175218230835], ['3eme lot', 98.13467021216466], ['Surface Carrez du 3eme lot', 99.63566196138947], ['4eme lot', 99.40261075190233], ['Surface Carrez du 4eme lot', 99.91187956523396], ['5eme lot', 99.74413001444576], ['Surface Carrez du 5eme lot', 99.96748061521313], ['Nombre de lots', 0.0], ['Code type local', 39.91847808227641], ['Type local', 39.91847808227641], ['Identifiant local', 100.0], ['Surface reelle bati', 39.97339562053006], ['Nombre pieces principales', 39.97339562053006], ['Nature culture', 33.83091234356454], ['Nature culture speciale', 95.93426194535324], ['Surface terrain', 33.83091234356454]]\n"
     ]
    }
   ],
   "source": [
    "#Affichage des pourcentages de données nulles par colonne\n",
    "\n",
    "def naPourcentage(data):\n",
    "    L = []\n",
    "    for col in data:\n",
    "        null_count = data[col].isnull().sum()\n",
    "        percent = null_count/(data.shape[0])*100\n",
    "        L.append([col, percent])\n",
    "    return L\n",
    "\n",
    "print(naPourcentage(data))"
   ],
   "metadata": {
    "collapsed": false,
    "ExecuteTime": {
     "start_time": "2023-06-22T23:29:13.968904Z",
     "end_time": "2023-06-22T23:29:20.362196Z"
    }
   }
  },
  {
   "cell_type": "markdown",
   "source": [
    "Ainsi, nous allons supprimer : Identifiant de document, Reference document, 1 Articles CGI, 2 Articles CGI, 3 Articles CGI, 4 Articles CGI, 5 Articles CGI, B/T/Q, Prefixe de section, No Volume, 1er lot, Surface Carrez du 1er lot, 2eme lot, Surface Carrez du 2eme lot, 3eme lot, Surface Carrez du 3eme lot, 4eme lot, Surface Carrez du 4eme lot, 5eme lot, Surface Carrez du 5eme lot, Identifiant local, Nature culture speciale."
   ],
   "metadata": {
    "collapsed": false
   }
  },
  {
   "cell_type": "code",
   "execution_count": 74,
   "outputs": [
    {
     "name": "stdout",
     "output_type": "stream",
     "text": [
      "         No disposition Date mutation Nature mutation Valeur fonciere  \\\n",
      "0                     1    03/01/2022           Vente        55000,00   \n",
      "1                     1    03/01/2022           Vente       143000,00   \n",
      "2                     1    03/01/2022           Vente       143000,00   \n",
      "3                     1    03/01/2022           Vente       143000,00   \n",
      "4                     1    04/01/2022           Vente          300,00   \n",
      "...                 ...           ...             ...             ...   \n",
      "3803880               1    30/12/2022           Vente      3500000,00   \n",
      "3803881               1    19/12/2022           Vente       525000,00   \n",
      "3803882               1    19/12/2022           Vente       525000,00   \n",
      "3803883               1    30/12/2022           Vente        15500,00   \n",
      "3803884               1    21/11/2022           Vente        30000,00   \n",
      "\n",
      "         No voie Type de voie Code voie               Voie  Code postal  \\\n",
      "0           13.0          RUE      2280      DE LA LIBERTE       1000.0   \n",
      "1            NaN          NaN      B010       CHAMP COCHET       1480.0   \n",
      "2            NaN          NaN      B010       CHAMP COCHET       1480.0   \n",
      "3           98.0          RTE      0055       DE LA DOMBES       1480.0   \n",
      "4            NaN          NaN      B031        AUX PIERRES       1480.0   \n",
      "...          ...          ...       ...                ...          ...   \n",
      "3803880     19.0          RUE      4879        JEAN DOLENT      75014.0   \n",
      "3803881      3.0          RUE      3842  FREDERIC MAGISSON      75015.0   \n",
      "3803882      3.0          RUE      3842  FREDERIC MAGISSON      75015.0   \n",
      "3803883     69.0          RUE      0679           BARRAULT      75013.0   \n",
      "3803884     48.0          RUE      8358     DE LA ROQUETTE      75011.0   \n",
      "\n",
      "                   Commune  ... Code commune  Section No plan  Nombre de lots  \\\n",
      "0          BOURG-EN-BRESSE  ...           53       AM     102               1   \n",
      "1                SAVIGNEUX  ...          398       ZE     184               0   \n",
      "2                SAVIGNEUX  ...          398       ZE     185               0   \n",
      "3                SAVIGNEUX  ...          398       ZE     187               1   \n",
      "4        MESSIMY SUR SAONE  ...          243        A     643               0   \n",
      "...                    ...  ...          ...      ...     ...             ...   \n",
      "3803880           PARIS 14  ...          114       AS      41               1   \n",
      "3803881           PARIS 15  ...          115       EJ      51               2   \n",
      "3803882           PARIS 15  ...          115       EJ      51               2   \n",
      "3803883           PARIS 13  ...          113       DM      28               1   \n",
      "3803884           PARIS 11  ...          111       CD      88               1   \n",
      "\n",
      "         Code type local                                Type local  \\\n",
      "0                    2.0                               Appartement   \n",
      "1                    NaN                                       NaN   \n",
      "2                    NaN                                       NaN   \n",
      "3                    2.0                               Appartement   \n",
      "4                    NaN                                       NaN   \n",
      "...                  ...                                       ...   \n",
      "3803880              4.0  Local industriel. commercial ou assimilé   \n",
      "3803881              3.0                                Dépendance   \n",
      "3803882              2.0                               Appartement   \n",
      "3803883              3.0                                Dépendance   \n",
      "3803884              3.0                                Dépendance   \n",
      "\n",
      "        Surface reelle bati  Nombre pieces principales  Nature culture  \\\n",
      "0                      24.0                        1.0             NaN   \n",
      "1                       NaN                        NaN               S   \n",
      "2                       NaN                        NaN               S   \n",
      "3                     140.0                        3.0             NaN   \n",
      "4                       NaN                        NaN               T   \n",
      "...                     ...                        ...             ...   \n",
      "3803880               327.0                        0.0             NaN   \n",
      "3803881                 0.0                        0.0             NaN   \n",
      "3803882                40.0                        3.0             NaN   \n",
      "3803883                 0.0                        0.0             NaN   \n",
      "3803884                 0.0                        0.0             NaN   \n",
      "\n",
      "        Surface terrain  \n",
      "0                   NaN  \n",
      "1                  84.0  \n",
      "2                  88.0  \n",
      "3                   NaN  \n",
      "4                 510.0  \n",
      "...                 ...  \n",
      "3803880             NaN  \n",
      "3803881             NaN  \n",
      "3803882             NaN  \n",
      "3803883             NaN  \n",
      "3803884             NaN  \n",
      "\n",
      "[3803885 rows x 21 columns]\n"
     ]
    }
   ],
   "source": [
    "#Suppression des colonnes contenant beaucoup de valeurs NaN\n",
    "\n",
    "colonnes_a_supprimer = [\"Identifiant de document\", \"Reference document\", \"1 Articles CGI\", \"2 Articles CGI\", \"3 Articles CGI\", \"4 Articles CGI\",\"5 Articles CGI\",\"B/T/Q\",\"Prefixe de section\",\"No Volume\",\"1er lot\",\"Surface Carrez du 1er lot\",\"2eme lot\",\"Surface Carrez du 2eme lot\",\"3eme lot\",\"Surface Carrez du 3eme lot\", \"4eme lot\", \"Surface Carrez du 4eme lot\",\"5eme lot\", \"Surface Carrez du 5eme lot\", \"Identifiant local\", \"Nature culture speciale\"]\n",
    "\n",
    "data = data.drop(colonnes_a_supprimer, axis=1)\n",
    "\n",
    "print(data)"
   ],
   "metadata": {
    "collapsed": false,
    "ExecuteTime": {
     "start_time": "2023-06-22T23:38:28.467000Z",
     "end_time": "2023-06-22T23:38:34.226273Z"
    }
   }
  },
  {
   "cell_type": "markdown",
   "source": [
    "Ensuite, nous vérifions s'il n'y a pas de doublons dans les lignes. Si oui, nous les supprimons, mais gardons une ligne."
   ],
   "metadata": {
    "collapsed": false
   }
  },
  {
   "cell_type": "code",
   "execution_count": 75,
   "outputs": [
    {
     "name": "stdout",
     "output_type": "stream",
     "text": [
      "         No disposition Date mutation Nature mutation Valeur fonciere  \\\n",
      "0                     1    03/01/2022           Vente        55000,00   \n",
      "1                     1    03/01/2022           Vente       143000,00   \n",
      "2                     1    03/01/2022           Vente       143000,00   \n",
      "3                     1    03/01/2022           Vente       143000,00   \n",
      "4                     1    04/01/2022           Vente          300,00   \n",
      "...                 ...           ...             ...             ...   \n",
      "3803880               1    30/12/2022           Vente      3500000,00   \n",
      "3803881               1    19/12/2022           Vente       525000,00   \n",
      "3803882               1    19/12/2022           Vente       525000,00   \n",
      "3803883               1    30/12/2022           Vente        15500,00   \n",
      "3803884               1    21/11/2022           Vente        30000,00   \n",
      "\n",
      "         No voie Type de voie Code voie               Voie  Code postal  \\\n",
      "0           13.0          RUE      2280      DE LA LIBERTE       1000.0   \n",
      "1            NaN          NaN      B010       CHAMP COCHET       1480.0   \n",
      "2            NaN          NaN      B010       CHAMP COCHET       1480.0   \n",
      "3           98.0          RTE      0055       DE LA DOMBES       1480.0   \n",
      "4            NaN          NaN      B031        AUX PIERRES       1480.0   \n",
      "...          ...          ...       ...                ...          ...   \n",
      "3803880     19.0          RUE      4879        JEAN DOLENT      75014.0   \n",
      "3803881      3.0          RUE      3842  FREDERIC MAGISSON      75015.0   \n",
      "3803882      3.0          RUE      3842  FREDERIC MAGISSON      75015.0   \n",
      "3803883     69.0          RUE      0679           BARRAULT      75013.0   \n",
      "3803884     48.0          RUE      8358     DE LA ROQUETTE      75011.0   \n",
      "\n",
      "                   Commune  ... Code commune  Section No plan  Nombre de lots  \\\n",
      "0          BOURG-EN-BRESSE  ...           53       AM     102               1   \n",
      "1                SAVIGNEUX  ...          398       ZE     184               0   \n",
      "2                SAVIGNEUX  ...          398       ZE     185               0   \n",
      "3                SAVIGNEUX  ...          398       ZE     187               1   \n",
      "4        MESSIMY SUR SAONE  ...          243        A     643               0   \n",
      "...                    ...  ...          ...      ...     ...             ...   \n",
      "3803880           PARIS 14  ...          114       AS      41               1   \n",
      "3803881           PARIS 15  ...          115       EJ      51               2   \n",
      "3803882           PARIS 15  ...          115       EJ      51               2   \n",
      "3803883           PARIS 13  ...          113       DM      28               1   \n",
      "3803884           PARIS 11  ...          111       CD      88               1   \n",
      "\n",
      "         Code type local                                Type local  \\\n",
      "0                    2.0                               Appartement   \n",
      "1                    NaN                                       NaN   \n",
      "2                    NaN                                       NaN   \n",
      "3                    2.0                               Appartement   \n",
      "4                    NaN                                       NaN   \n",
      "...                  ...                                       ...   \n",
      "3803880              4.0  Local industriel. commercial ou assimilé   \n",
      "3803881              3.0                                Dépendance   \n",
      "3803882              2.0                               Appartement   \n",
      "3803883              3.0                                Dépendance   \n",
      "3803884              3.0                                Dépendance   \n",
      "\n",
      "        Surface reelle bati  Nombre pieces principales  Nature culture  \\\n",
      "0                      24.0                        1.0             NaN   \n",
      "1                       NaN                        NaN               S   \n",
      "2                       NaN                        NaN               S   \n",
      "3                     140.0                        3.0             NaN   \n",
      "4                       NaN                        NaN               T   \n",
      "...                     ...                        ...             ...   \n",
      "3803880               327.0                        0.0             NaN   \n",
      "3803881                 0.0                        0.0             NaN   \n",
      "3803882                40.0                        3.0             NaN   \n",
      "3803883                 0.0                        0.0             NaN   \n",
      "3803884                 0.0                        0.0             NaN   \n",
      "\n",
      "        Surface terrain  \n",
      "0                   NaN  \n",
      "1                  84.0  \n",
      "2                  88.0  \n",
      "3                   NaN  \n",
      "4                 510.0  \n",
      "...                 ...  \n",
      "3803880             NaN  \n",
      "3803881             NaN  \n",
      "3803882             NaN  \n",
      "3803883             NaN  \n",
      "3803884             NaN  \n",
      "\n",
      "[3316270 rows x 21 columns]\n"
     ]
    }
   ],
   "source": [
    "# Suppression des doublons\n",
    "\n",
    "data = data.drop_duplicates()\n",
    "\n",
    "print(data)"
   ],
   "metadata": {
    "collapsed": false,
    "ExecuteTime": {
     "start_time": "2023-06-22T23:38:39.135175Z",
     "end_time": "2023-06-22T23:38:51.072374Z"
    }
   }
  },
  {
   "cell_type": "markdown",
   "source": [
    "Nous nous apercevons qu'il y a des valeurs nulles dans des colonnes non numériques. Ne pouvant les remplacer, nous allons les supprimer."
   ],
   "metadata": {
    "collapsed": false
   }
  },
  {
   "cell_type": "code",
   "execution_count": 76,
   "outputs": [
    {
     "name": "stdout",
     "output_type": "stream",
     "text": [
      "         No disposition Date mutation Nature mutation Valeur fonciere  \\\n",
      "5                     1    06/01/2022           Vente       255000,00   \n",
      "8                     1    03/01/2022           Vente       525000,00   \n",
      "9                     1    03/01/2022           Vente       525000,00   \n",
      "13                    1    03/01/2022           Vente       140000,00   \n",
      "21                    1    10/01/2022           Vente       580000,00   \n",
      "...                 ...           ...             ...             ...   \n",
      "3803692               1    28/12/2022           Vente     12281000,00   \n",
      "3803693               1    28/12/2022           Vente     12281000,00   \n",
      "3803694               1    28/12/2022           Vente     12281000,00   \n",
      "3803705               1    30/12/2022           Vente      3100000,00   \n",
      "3803723               1    08/12/2022           Vente      2600000,00   \n",
      "\n",
      "         No voie Type de voie Code voie                  Voie  Code postal  \\\n",
      "5          282.0          RTE      0130           DE POISATON       1560.0   \n",
      "8          217.0           PL      0300   DE LA CROIX BLANCHE       1390.0   \n",
      "9          217.0           PL      0300   DE LA CROIX BLANCHE       1390.0   \n",
      "13           6.0          RUE      0397          DE BEAUGENCY       1000.0   \n",
      "21          45.0          RUE      0119            DES COMBES       1500.0   \n",
      "...          ...          ...       ...                   ...          ...   \n",
      "3803692    116.0          RUE      0272                AMELOT      75011.0   \n",
      "3803693    116.0          RUE      0272                AMELOT      75011.0   \n",
      "3803694    116.0          RUE      0272                AMELOT      75011.0   \n",
      "3803705     82.0           AV      2816  DU DOC ARNOLD NETTER      75012.0   \n",
      "3803723      6.0           SQ      6533         DE MONTSOURIS      75014.0   \n",
      "\n",
      "                      Commune  ... Code commune  Section No plan  \\\n",
      "5            MANTENAY-MONTLIN  ...          230       ZM     124   \n",
      "8        SAINT-ANDRE-DE-CORCY  ...          333       AN     186   \n",
      "9        SAINT-ANDRE-DE-CORCY  ...          333       AN     186   \n",
      "13            BOURG-EN-BRESSE  ...           53       BZ     175   \n",
      "21                   AMBRONAY  ...            7       ZN     521   \n",
      "...                       ...  ...          ...      ...     ...   \n",
      "3803692              PARIS 11  ...          111       AO      74   \n",
      "3803693              PARIS 11  ...          111       AO      74   \n",
      "3803694              PARIS 11  ...          111       AO      74   \n",
      "3803705              PARIS 12  ...          112       AI       5   \n",
      "3803723              PARIS 14  ...          114       BL      90   \n",
      "\n",
      "         Nombre de lots  Code type local  \\\n",
      "5                     0              1.0   \n",
      "8                     0              4.0   \n",
      "9                     0              2.0   \n",
      "13                    0              1.0   \n",
      "21                    0              3.0   \n",
      "...                 ...              ...   \n",
      "3803692               0              2.0   \n",
      "3803693               0              2.0   \n",
      "3803694               0              2.0   \n",
      "3803705               0              4.0   \n",
      "3803723               0              1.0   \n",
      "\n",
      "                                       Type local Surface reelle bati  \\\n",
      "5                                          Maison               108.0   \n",
      "8        Local industriel. commercial ou assimilé               424.0   \n",
      "9                                     Appartement               126.0   \n",
      "13                                         Maison               100.0   \n",
      "21                                     Dépendance                 0.0   \n",
      "...                                           ...                 ...   \n",
      "3803692                               Appartement                14.0   \n",
      "3803693                               Appartement                78.0   \n",
      "3803694                               Appartement                17.0   \n",
      "3803705  Local industriel. commercial ou assimilé               709.0   \n",
      "3803723                                    Maison               180.0   \n",
      "\n",
      "         Nombre pieces principales  Nature culture Surface terrain  \n",
      "5                              5.0               S           649.0  \n",
      "8                              0.0               S           628.0  \n",
      "9                              4.0               S           628.0  \n",
      "13                             4.0               S           796.0  \n",
      "21                             0.0               S           496.0  \n",
      "...                            ...             ...             ...  \n",
      "3803692                        1.0               S           265.0  \n",
      "3803693                        3.0               S           265.0  \n",
      "3803694                        1.0               S           265.0  \n",
      "3803705                        0.0               S           258.0  \n",
      "3803723                        8.0               S           163.0  \n",
      "\n",
      "[847741 rows x 21 columns]\n"
     ]
    }
   ],
   "source": [
    "import numpy as np\n",
    "\n",
    "columns_non_numeric = data.select_dtypes(exclude=[np.number]).columns\n",
    "columns_with_nulls = data[columns_non_numeric].isnull().any()\n",
    "data = data.dropna(subset=columns_with_nulls.index)\n",
    "\n",
    "print(data)"
   ],
   "metadata": {
    "collapsed": false,
    "ExecuteTime": {
     "start_time": "2023-06-22T23:38:56.587283Z",
     "end_time": "2023-06-22T23:39:10.781866Z"
    }
   }
  },
  {
   "cell_type": "markdown",
   "source": [
    "Pour remplir les valeurs manquantes, nous allons mettre la médiane de chaque colonne. En effet, la médiane est une mesure de tendance centrale qui représente la valeur au milieu de l'ensemble de données trié. Contrairement à la moyenne, qui peut être sensible aux valeurs aberrantes, la médiane est une mesure qui est moins sensible aux valeurs extrêmes. Cela permet la distribution des valeurs de la colonne et minimiser les effets des valeurs aberrantes. Pour les colonnes qui ne possèdent pas de valeurs chiffrées, nous allons supprimer les lignes."
   ],
   "metadata": {
    "collapsed": false
   }
  },
  {
   "cell_type": "code",
   "execution_count": 77,
   "outputs": [
    {
     "name": "stdout",
     "output_type": "stream",
     "text": [
      "         No disposition Date mutation Nature mutation Valeur fonciere  \\\n",
      "5                     1    06/01/2022           Vente       255000,00   \n",
      "8                     1    03/01/2022           Vente       525000,00   \n",
      "9                     1    03/01/2022           Vente       525000,00   \n",
      "13                    1    03/01/2022           Vente       140000,00   \n",
      "21                    1    10/01/2022           Vente       580000,00   \n",
      "...                 ...           ...             ...             ...   \n",
      "3803692               1    28/12/2022           Vente     12281000,00   \n",
      "3803693               1    28/12/2022           Vente     12281000,00   \n",
      "3803694               1    28/12/2022           Vente     12281000,00   \n",
      "3803705               1    30/12/2022           Vente      3100000,00   \n",
      "3803723               1    08/12/2022           Vente      2600000,00   \n",
      "\n",
      "         No voie Type de voie Code voie                  Voie  Code postal  \\\n",
      "5          282.0          RTE      0130           DE POISATON       1560.0   \n",
      "8          217.0           PL      0300   DE LA CROIX BLANCHE       1390.0   \n",
      "9          217.0           PL      0300   DE LA CROIX BLANCHE       1390.0   \n",
      "13           6.0          RUE      0397          DE BEAUGENCY       1000.0   \n",
      "21          45.0          RUE      0119            DES COMBES       1500.0   \n",
      "...          ...          ...       ...                   ...          ...   \n",
      "3803692    116.0          RUE      0272                AMELOT      75011.0   \n",
      "3803693    116.0          RUE      0272                AMELOT      75011.0   \n",
      "3803694    116.0          RUE      0272                AMELOT      75011.0   \n",
      "3803705     82.0           AV      2816  DU DOC ARNOLD NETTER      75012.0   \n",
      "3803723      6.0           SQ      6533         DE MONTSOURIS      75014.0   \n",
      "\n",
      "                      Commune  ... Code commune  Section No plan  \\\n",
      "5            MANTENAY-MONTLIN  ...          230       ZM     124   \n",
      "8        SAINT-ANDRE-DE-CORCY  ...          333       AN     186   \n",
      "9        SAINT-ANDRE-DE-CORCY  ...          333       AN     186   \n",
      "13            BOURG-EN-BRESSE  ...           53       BZ     175   \n",
      "21                   AMBRONAY  ...            7       ZN     521   \n",
      "...                       ...  ...          ...      ...     ...   \n",
      "3803692              PARIS 11  ...          111       AO      74   \n",
      "3803693              PARIS 11  ...          111       AO      74   \n",
      "3803694              PARIS 11  ...          111       AO      74   \n",
      "3803705              PARIS 12  ...          112       AI       5   \n",
      "3803723              PARIS 14  ...          114       BL      90   \n",
      "\n",
      "         Nombre de lots  Code type local  \\\n",
      "5                     0              1.0   \n",
      "8                     0              4.0   \n",
      "9                     0              2.0   \n",
      "13                    0              1.0   \n",
      "21                    0              3.0   \n",
      "...                 ...              ...   \n",
      "3803692               0              2.0   \n",
      "3803693               0              2.0   \n",
      "3803694               0              2.0   \n",
      "3803705               0              4.0   \n",
      "3803723               0              1.0   \n",
      "\n",
      "                                       Type local Surface reelle bati  \\\n",
      "5                                          Maison               108.0   \n",
      "8        Local industriel. commercial ou assimilé               424.0   \n",
      "9                                     Appartement               126.0   \n",
      "13                                         Maison               100.0   \n",
      "21                                     Dépendance                 0.0   \n",
      "...                                           ...                 ...   \n",
      "3803692                               Appartement                14.0   \n",
      "3803693                               Appartement                78.0   \n",
      "3803694                               Appartement                17.0   \n",
      "3803705  Local industriel. commercial ou assimilé               709.0   \n",
      "3803723                                    Maison               180.0   \n",
      "\n",
      "         Nombre pieces principales  Nature culture Surface terrain  \n",
      "5                              5.0               S           649.0  \n",
      "8                              0.0               S           628.0  \n",
      "9                              4.0               S           628.0  \n",
      "13                             4.0               S           796.0  \n",
      "21                             0.0               S           496.0  \n",
      "...                            ...             ...             ...  \n",
      "3803692                        1.0               S           265.0  \n",
      "3803693                        3.0               S           265.0  \n",
      "3803694                        1.0               S           265.0  \n",
      "3803705                        0.0               S           258.0  \n",
      "3803723                        8.0               S           163.0  \n",
      "\n",
      "[847741 rows x 21 columns]\n"
     ]
    }
   ],
   "source": [
    "#Remplacement des valeurs nulles de surface terrain par 0\n",
    "data[\"Surface terrain\"] = data[\"Surface terrain\"].fillna(0)\n",
    "\n",
    "#Compléter les valeurs nulles surface reelle bati avec la médiane\n",
    "median_value = data[\"Surface reelle bati\"].median()\n",
    "data[\"Surface reelle bati\"] = data[\"Surface reelle bati\"].fillna(median_value)\n",
    "\n",
    "#Remplacement des valeurs nulles de nombre de pièces principales par 0\n",
    "data[\"Nombre pieces principales\"] = data[\"Nombre pieces principales\"].fillna(0)\n",
    "\n",
    "print(data)"
   ],
   "metadata": {
    "collapsed": false,
    "ExecuteTime": {
     "start_time": "2023-06-22T23:39:14.522434Z",
     "end_time": "2023-06-22T23:39:15.432696Z"
    }
   }
  },
  {
   "cell_type": "markdown",
   "source": [
    "Afin de finir de préparer notre dataset, nous allons normaliser les colonnes : valeur foncière, surface reelle batiment, nombre pièces, surface terrain. Cela permet de réduire l'écart entre ces données qui peuvent varier très différemment."
   ],
   "metadata": {
    "collapsed": false
   }
  },
  {
   "cell_type": "code",
   "execution_count": 81,
   "outputs": [
    {
     "ename": "AttributeError",
     "evalue": "Can only use .str accessor with string values!",
     "output_type": "error",
     "traceback": [
      "\u001B[0;31m---------------------------------------------------------------------------\u001B[0m",
      "\u001B[0;31mAttributeError\u001B[0m                            Traceback (most recent call last)",
      "Cell \u001B[0;32mIn[81], line 4\u001B[0m\n\u001B[1;32m      1\u001B[0m \u001B[38;5;28;01mfrom\u001B[39;00m \u001B[38;5;21;01msklearn\u001B[39;00m\u001B[38;5;21;01m.\u001B[39;00m\u001B[38;5;21;01mpreprocessing\u001B[39;00m \u001B[38;5;28;01mimport\u001B[39;00m MinMaxScaler\n\u001B[1;32m      3\u001B[0m \u001B[38;5;66;03m# Remplacer les virgules par des points dans les valeurs de la colonne \"Valeur fonciere\"\u001B[39;00m\n\u001B[0;32m----> 4\u001B[0m data[\u001B[38;5;124m\"\u001B[39m\u001B[38;5;124mValeur fonciere\u001B[39m\u001B[38;5;124m\"\u001B[39m] \u001B[38;5;241m=\u001B[39m \u001B[43mdata\u001B[49m\u001B[43m[\u001B[49m\u001B[38;5;124;43m\"\u001B[39;49m\u001B[38;5;124;43mValeur fonciere\u001B[39;49m\u001B[38;5;124;43m\"\u001B[39;49m\u001B[43m]\u001B[49m\u001B[38;5;241;43m.\u001B[39;49m\u001B[43mstr\u001B[49m\u001B[38;5;241m.\u001B[39mreplace(\u001B[38;5;124m\"\u001B[39m\u001B[38;5;124m,\u001B[39m\u001B[38;5;124m\"\u001B[39m, \u001B[38;5;124m\"\u001B[39m\u001B[38;5;124m.\u001B[39m\u001B[38;5;124m\"\u001B[39m)\n\u001B[1;32m      6\u001B[0m \u001B[38;5;66;03m# Convertir la colonne en type float\u001B[39;00m\n\u001B[1;32m      7\u001B[0m data[\u001B[38;5;124m\"\u001B[39m\u001B[38;5;124mValeur fonciere\u001B[39m\u001B[38;5;124m\"\u001B[39m] \u001B[38;5;241m=\u001B[39m data[\u001B[38;5;124m\"\u001B[39m\u001B[38;5;124mValeur fonciere\u001B[39m\u001B[38;5;124m\"\u001B[39m]\u001B[38;5;241m.\u001B[39mastype(\u001B[38;5;28mfloat\u001B[39m)\n",
      "File \u001B[0;32m~/anaconda3/envs/Data_Project/lib/python3.10/site-packages/pandas/core/generic.py:5902\u001B[0m, in \u001B[0;36mNDFrame.__getattr__\u001B[0;34m(self, name)\u001B[0m\n\u001B[1;32m   5895\u001B[0m \u001B[38;5;28;01mif\u001B[39;00m (\n\u001B[1;32m   5896\u001B[0m     name \u001B[38;5;129;01mnot\u001B[39;00m \u001B[38;5;129;01min\u001B[39;00m \u001B[38;5;28mself\u001B[39m\u001B[38;5;241m.\u001B[39m_internal_names_set\n\u001B[1;32m   5897\u001B[0m     \u001B[38;5;129;01mand\u001B[39;00m name \u001B[38;5;129;01mnot\u001B[39;00m \u001B[38;5;129;01min\u001B[39;00m \u001B[38;5;28mself\u001B[39m\u001B[38;5;241m.\u001B[39m_metadata\n\u001B[1;32m   5898\u001B[0m     \u001B[38;5;129;01mand\u001B[39;00m name \u001B[38;5;129;01mnot\u001B[39;00m \u001B[38;5;129;01min\u001B[39;00m \u001B[38;5;28mself\u001B[39m\u001B[38;5;241m.\u001B[39m_accessors\n\u001B[1;32m   5899\u001B[0m     \u001B[38;5;129;01mand\u001B[39;00m \u001B[38;5;28mself\u001B[39m\u001B[38;5;241m.\u001B[39m_info_axis\u001B[38;5;241m.\u001B[39m_can_hold_identifiers_and_holds_name(name)\n\u001B[1;32m   5900\u001B[0m ):\n\u001B[1;32m   5901\u001B[0m     \u001B[38;5;28;01mreturn\u001B[39;00m \u001B[38;5;28mself\u001B[39m[name]\n\u001B[0;32m-> 5902\u001B[0m \u001B[38;5;28;01mreturn\u001B[39;00m \u001B[38;5;28;43mobject\u001B[39;49m\u001B[38;5;241;43m.\u001B[39;49m\u001B[38;5;21;43m__getattribute__\u001B[39;49m\u001B[43m(\u001B[49m\u001B[38;5;28;43mself\u001B[39;49m\u001B[43m,\u001B[49m\u001B[43m \u001B[49m\u001B[43mname\u001B[49m\u001B[43m)\u001B[49m\n",
      "File \u001B[0;32m~/anaconda3/envs/Data_Project/lib/python3.10/site-packages/pandas/core/accessor.py:182\u001B[0m, in \u001B[0;36mCachedAccessor.__get__\u001B[0;34m(self, obj, cls)\u001B[0m\n\u001B[1;32m    179\u001B[0m \u001B[38;5;28;01mif\u001B[39;00m obj \u001B[38;5;129;01mis\u001B[39;00m \u001B[38;5;28;01mNone\u001B[39;00m:\n\u001B[1;32m    180\u001B[0m     \u001B[38;5;66;03m# we're accessing the attribute of the class, i.e., Dataset.geo\u001B[39;00m\n\u001B[1;32m    181\u001B[0m     \u001B[38;5;28;01mreturn\u001B[39;00m \u001B[38;5;28mself\u001B[39m\u001B[38;5;241m.\u001B[39m_accessor\n\u001B[0;32m--> 182\u001B[0m accessor_obj \u001B[38;5;241m=\u001B[39m \u001B[38;5;28;43mself\u001B[39;49m\u001B[38;5;241;43m.\u001B[39;49m\u001B[43m_accessor\u001B[49m\u001B[43m(\u001B[49m\u001B[43mobj\u001B[49m\u001B[43m)\u001B[49m\n\u001B[1;32m    183\u001B[0m \u001B[38;5;66;03m# Replace the property with the accessor object. Inspired by:\u001B[39;00m\n\u001B[1;32m    184\u001B[0m \u001B[38;5;66;03m# https://www.pydanny.com/cached-property.html\u001B[39;00m\n\u001B[1;32m    185\u001B[0m \u001B[38;5;66;03m# We need to use object.__setattr__ because we overwrite __setattr__ on\u001B[39;00m\n\u001B[1;32m    186\u001B[0m \u001B[38;5;66;03m# NDFrame\u001B[39;00m\n\u001B[1;32m    187\u001B[0m \u001B[38;5;28mobject\u001B[39m\u001B[38;5;241m.\u001B[39m\u001B[38;5;21m__setattr__\u001B[39m(obj, \u001B[38;5;28mself\u001B[39m\u001B[38;5;241m.\u001B[39m_name, accessor_obj)\n",
      "File \u001B[0;32m~/anaconda3/envs/Data_Project/lib/python3.10/site-packages/pandas/core/strings/accessor.py:181\u001B[0m, in \u001B[0;36mStringMethods.__init__\u001B[0;34m(self, data)\u001B[0m\n\u001B[1;32m    178\u001B[0m \u001B[38;5;28;01mdef\u001B[39;00m \u001B[38;5;21m__init__\u001B[39m(\u001B[38;5;28mself\u001B[39m, data) \u001B[38;5;241m-\u001B[39m\u001B[38;5;241m>\u001B[39m \u001B[38;5;28;01mNone\u001B[39;00m:\n\u001B[1;32m    179\u001B[0m     \u001B[38;5;28;01mfrom\u001B[39;00m \u001B[38;5;21;01mpandas\u001B[39;00m\u001B[38;5;21;01m.\u001B[39;00m\u001B[38;5;21;01mcore\u001B[39;00m\u001B[38;5;21;01m.\u001B[39;00m\u001B[38;5;21;01marrays\u001B[39;00m\u001B[38;5;21;01m.\u001B[39;00m\u001B[38;5;21;01mstring_\u001B[39;00m \u001B[38;5;28;01mimport\u001B[39;00m StringDtype\n\u001B[0;32m--> 181\u001B[0m     \u001B[38;5;28mself\u001B[39m\u001B[38;5;241m.\u001B[39m_inferred_dtype \u001B[38;5;241m=\u001B[39m \u001B[38;5;28;43mself\u001B[39;49m\u001B[38;5;241;43m.\u001B[39;49m\u001B[43m_validate\u001B[49m\u001B[43m(\u001B[49m\u001B[43mdata\u001B[49m\u001B[43m)\u001B[49m\n\u001B[1;32m    182\u001B[0m     \u001B[38;5;28mself\u001B[39m\u001B[38;5;241m.\u001B[39m_is_categorical \u001B[38;5;241m=\u001B[39m is_categorical_dtype(data\u001B[38;5;241m.\u001B[39mdtype)\n\u001B[1;32m    183\u001B[0m     \u001B[38;5;28mself\u001B[39m\u001B[38;5;241m.\u001B[39m_is_string \u001B[38;5;241m=\u001B[39m \u001B[38;5;28misinstance\u001B[39m(data\u001B[38;5;241m.\u001B[39mdtype, StringDtype)\n",
      "File \u001B[0;32m~/anaconda3/envs/Data_Project/lib/python3.10/site-packages/pandas/core/strings/accessor.py:235\u001B[0m, in \u001B[0;36mStringMethods._validate\u001B[0;34m(data)\u001B[0m\n\u001B[1;32m    232\u001B[0m inferred_dtype \u001B[38;5;241m=\u001B[39m lib\u001B[38;5;241m.\u001B[39minfer_dtype(values, skipna\u001B[38;5;241m=\u001B[39m\u001B[38;5;28;01mTrue\u001B[39;00m)\n\u001B[1;32m    234\u001B[0m \u001B[38;5;28;01mif\u001B[39;00m inferred_dtype \u001B[38;5;129;01mnot\u001B[39;00m \u001B[38;5;129;01min\u001B[39;00m allowed_types:\n\u001B[0;32m--> 235\u001B[0m     \u001B[38;5;28;01mraise\u001B[39;00m \u001B[38;5;167;01mAttributeError\u001B[39;00m(\u001B[38;5;124m\"\u001B[39m\u001B[38;5;124mCan only use .str accessor with string values!\u001B[39m\u001B[38;5;124m\"\u001B[39m)\n\u001B[1;32m    236\u001B[0m \u001B[38;5;28;01mreturn\u001B[39;00m inferred_dtype\n",
      "\u001B[0;31mAttributeError\u001B[0m: Can only use .str accessor with string values!"
     ]
    }
   ],
   "source": [
    "from sklearn.preprocessing import MinMaxScaler\n",
    "\n",
    "# Remplacer les virgules par des points dans les valeurs de la colonne \"Valeur fonciere\"\n",
    "data[\"Valeur fonciere\"] = data[\"Valeur fonciere\"].str.replace(\",\", \".\")\n",
    "\n",
    "# Convertir la colonne en type float\n",
    "data[\"Valeur fonciere\"] = data[\"Valeur fonciere\"].astype(float)\n",
    "\n",
    "\n",
    "columns_to_normalize = [\"Valeur fonciere\", \"Surface reelle bati\", \"Nombre pieces principales\", \"Surface terrain\"]\n",
    "scaler = MinMaxScaler()\n",
    "data[columns_to_normalize] = scaler.fit_transform(data[columns_to_normalize])\n",
    "\n",
    "print(data)"
   ],
   "metadata": {
    "collapsed": false,
    "ExecuteTime": {
     "start_time": "2023-06-22T23:40:05.726990Z",
     "end_time": "2023-06-22T23:40:08.608197Z"
    }
   }
  }
 ],
 "metadata": {
  "kernelspec": {
   "display_name": "Python 3",
   "language": "python",
   "name": "python3"
  },
  "language_info": {
   "codemirror_mode": {
    "name": "ipython",
    "version": 2
   },
   "file_extension": ".py",
   "mimetype": "text/x-python",
   "name": "python",
   "nbconvert_exporter": "python",
   "pygments_lexer": "ipython2",
   "version": "2.7.6"
  }
 },
 "nbformat": 4,
 "nbformat_minor": 0
}
