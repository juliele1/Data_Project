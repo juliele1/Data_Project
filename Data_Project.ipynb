{
 "cells": [
  {
   "cell_type": "markdown",
   "source": [
    "Projet DATA : Analyse des données DVF\n",
    "\n",
    "Mohammad Darmsy Ladha\n",
    "Matthieu Evuort\n",
    "Julie Chen\n",
    "\n",
    "\n",
    "Introduction :\n",
    "\n",
    "Le machine learning est une technique informatique qui permet à une machine d'apprendre à partir de données, sans qu'un programme spécifique lui soit directement programmé. Le principe est de fournir à l'algorithme un grand nombre d'exemples pour qu'il apprenne à identifier des modèles et à prendre des décisions à partir de ces modèles. Le machine learning est utilisé dans de nombreux domaines, tels que la reconnaissance de formes, la classification de données, la détection de fraudes, la recommandation de produits, la traduction de langues, la reconnaissance vocale ou encore la conduite autonome.\n",
    "\n",
    "Ce projet consiste à expliquer le prix de la valeur foncière en France selon une multitude de facteurs. On peut citer le code postal, surface terrain, surface réelle batie...\n",
    "\n",
    " Pour cela, nous allons utiliser plusieurs méthodes afin de préparer nos données, de les analyser et de les modéliser grâce aux TP que nous avons pu effectuer en cours, mais ainsi qu'à la documentation d'internet.\n",
    "\n",
    "Sommaire :\n",
    "\n",
    "A) Préparation des données\n",
    "B) Analyse exploratoire des données\n",
    "C) Modélisation des données\n",
    "D) Evaluation des modèles\n",
    "\n",
    "\n",
    "A) Préparation des données\n",
    "\n",
    "Afin de préparer nos données, nous allons supprimer les colonnes comprenant de nombreuses valeurs nulles. En effet, lorsqu'une colonne présente plus de 90% il est mieux de la supprimer, car compléter toutes les valeurs manquantes peut créer un biais dans l'analyse. Pour cela, nous avons créés un algorithme qui permet de nous indiquer le pourcentage de valeurs nulles dans chaque colonne."
   ],
   "metadata": {
    "collapsed": false
   }
  },
  {
   "cell_type": "code",
   "execution_count": 5,
   "outputs": [
    {
     "name": "stderr",
     "output_type": "stream",
     "text": [
      "/var/folders/29/jk9lm8hj2fxf5p1bbvw0cv5c0000gn/T/ipykernel_6952/1611357360.py:4: DtypeWarning: Columns (18,23,24,26,28,29,31,33,41) have mixed types. Specify dtype option on import or set low_memory=False.\n",
      "  data = pd.read_csv(\"./data/valeursfoncieres-2022.txt\", delimiter='|')\n"
     ]
    },
    {
     "name": "stdout",
     "output_type": "stream",
     "text": [
      "         Identifiant de document  Reference document  1 Articles CGI  \\\n",
      "0                            NaN                 NaN             NaN   \n",
      "1                            NaN                 NaN             NaN   \n",
      "2                            NaN                 NaN             NaN   \n",
      "3                            NaN                 NaN             NaN   \n",
      "4                            NaN                 NaN             NaN   \n",
      "...                          ...                 ...             ...   \n",
      "3803880                      NaN                 NaN             NaN   \n",
      "3803881                      NaN                 NaN             NaN   \n",
      "3803882                      NaN                 NaN             NaN   \n",
      "3803883                      NaN                 NaN             NaN   \n",
      "3803884                      NaN                 NaN             NaN   \n",
      "\n",
      "         2 Articles CGI  3 Articles CGI  4 Articles CGI  5 Articles CGI  \\\n",
      "0                   NaN             NaN             NaN             NaN   \n",
      "1                   NaN             NaN             NaN             NaN   \n",
      "2                   NaN             NaN             NaN             NaN   \n",
      "3                   NaN             NaN             NaN             NaN   \n",
      "4                   NaN             NaN             NaN             NaN   \n",
      "...                 ...             ...             ...             ...   \n",
      "3803880             NaN             NaN             NaN             NaN   \n",
      "3803881             NaN             NaN             NaN             NaN   \n",
      "3803882             NaN             NaN             NaN             NaN   \n",
      "3803883             NaN             NaN             NaN             NaN   \n",
      "3803884             NaN             NaN             NaN             NaN   \n",
      "\n",
      "         No disposition Date mutation Nature mutation  ...  \\\n",
      "0                     1    03/01/2022           Vente  ...   \n",
      "1                     1    03/01/2022           Vente  ...   \n",
      "2                     1    03/01/2022           Vente  ...   \n",
      "3                     1    03/01/2022           Vente  ...   \n",
      "4                     1    04/01/2022           Vente  ...   \n",
      "...                 ...           ...             ...  ...   \n",
      "3803880               1    30/12/2022           Vente  ...   \n",
      "3803881               1    19/12/2022           Vente  ...   \n",
      "3803882               1    19/12/2022           Vente  ...   \n",
      "3803883               1    30/12/2022           Vente  ...   \n",
      "3803884               1    21/11/2022           Vente  ...   \n",
      "\n",
      "        Surface Carrez du 5eme lot  Nombre de lots Code type local  \\\n",
      "0                              NaN               1             2.0   \n",
      "1                              NaN               0             NaN   \n",
      "2                              NaN               0             NaN   \n",
      "3                              NaN               1             2.0   \n",
      "4                              NaN               0             NaN   \n",
      "...                            ...             ...             ...   \n",
      "3803880                        NaN               1             4.0   \n",
      "3803881                        NaN               2             3.0   \n",
      "3803882                        NaN               2             2.0   \n",
      "3803883                        NaN               1             3.0   \n",
      "3803884                        NaN               1             3.0   \n",
      "\n",
      "                                       Type local Identifiant local  \\\n",
      "0                                     Appartement               NaN   \n",
      "1                                             NaN               NaN   \n",
      "2                                             NaN               NaN   \n",
      "3                                     Appartement               NaN   \n",
      "4                                             NaN               NaN   \n",
      "...                                           ...               ...   \n",
      "3803880  Local industriel. commercial ou assimilé               NaN   \n",
      "3803881                                Dépendance               NaN   \n",
      "3803882                               Appartement               NaN   \n",
      "3803883                                Dépendance               NaN   \n",
      "3803884                                Dépendance               NaN   \n",
      "\n",
      "        Surface reelle bati  Nombre pieces principales Nature culture  \\\n",
      "0                      24.0                        1.0            NaN   \n",
      "1                       NaN                        NaN              S   \n",
      "2                       NaN                        NaN              S   \n",
      "3                     140.0                        3.0            NaN   \n",
      "4                       NaN                        NaN              T   \n",
      "...                     ...                        ...            ...   \n",
      "3803880               327.0                        0.0            NaN   \n",
      "3803881                 0.0                        0.0            NaN   \n",
      "3803882                40.0                        3.0            NaN   \n",
      "3803883                 0.0                        0.0            NaN   \n",
      "3803884                 0.0                        0.0            NaN   \n",
      "\n",
      "        Nature culture speciale  Surface terrain  \n",
      "0                           NaN              NaN  \n",
      "1                           NaN             84.0  \n",
      "2                           NaN             88.0  \n",
      "3                           NaN              NaN  \n",
      "4                           NaN            510.0  \n",
      "...                         ...              ...  \n",
      "3803880                     NaN              NaN  \n",
      "3803881                     NaN              NaN  \n",
      "3803882                     NaN              NaN  \n",
      "3803883                     NaN              NaN  \n",
      "3803884                     NaN              NaN  \n",
      "\n",
      "[3803885 rows x 43 columns]\n"
     ]
    }
   ],
   "source": [
    "import pandas as pd\n",
    "from matplotlib import pyplot as plt\n",
    "import seaborn as sns\n",
    "data = pd.read_csv(\"./data/valeursfoncieres-2022.txt\", delimiter='|')\n",
    "print(data)"
   ],
   "metadata": {
    "collapsed": false,
    "ExecuteTime": {
     "start_time": "2023-06-21T16:24:14.439526Z",
     "end_time": "2023-06-21T16:25:07.992326Z"
    }
   }
  },
  {
   "cell_type": "code",
   "execution_count": 9,
   "outputs": [
    {
     "name": "stdout",
     "output_type": "stream",
     "text": [
      "[['Identifiant de document', 100.0], ['Reference document', 100.0], ['1 Articles CGI', 100.0], ['2 Articles CGI', 100.0], ['3 Articles CGI', 100.0], ['4 Articles CGI', 100.0], ['5 Articles CGI', 100.0], ['No disposition', 0.0], ['Date mutation', 0.0], ['Nature mutation', 0.0], ['Valeur fonciere', 0.6498882063995101], ['No voie', 34.733621021666], ['B/T/Q', 95.3740189306459], ['Type de voie', 36.9842936892151], ['Code voie', 1.0263980115066569], ['Voie', 1.029289791883824], ['Code postal', 1.029815570134218], ['Commune', 0.0], ['Code departement', 0.0], ['Code commune', 0.0], ['Prefixe de section', 95.82429542428333], ['Section', 0.004074781440553539], ['No plan', 0.0], ['No Volume', 99.765792078362], ['1er lot', 66.63114158288171], ['Surface Carrez du 1er lot', 90.33256788783048], ['2eme lot', 89.535277748933], ['Surface Carrez du 2eme lot', 96.74175218230835], ['3eme lot', 98.13467021216466], ['Surface Carrez du 3eme lot', 99.63566196138947], ['4eme lot', 99.40261075190233], ['Surface Carrez du 4eme lot', 99.91187956523396], ['5eme lot', 99.74413001444576], ['Surface Carrez du 5eme lot', 99.96748061521313], ['Nombre de lots', 0.0], ['Code type local', 39.91847808227641], ['Type local', 39.91847808227641], ['Identifiant local', 100.0], ['Surface reelle bati', 39.97339562053006], ['Nombre pieces principales', 39.97339562053006], ['Nature culture', 33.83091234356454], ['Nature culture speciale', 95.93426194535324], ['Surface terrain', 33.83091234356454]]\n"
     ]
    }
   ],
   "source": [
    "def naPourcentage(data):\n",
    "    L = []\n",
    "    for col in data:\n",
    "        null_count = data[col].isnull().sum()\n",
    "        percent = null_count/(data.shape[0])*100\n",
    "        L.append([col, percent])\n",
    "    return L\n",
    "\n",
    "print(naPourcentage(data))"
   ],
   "metadata": {
    "collapsed": false,
    "ExecuteTime": {
     "start_time": "2023-06-21T22:04:36.473547Z",
     "end_time": "2023-06-21T22:04:45.272407Z"
    }
   }
  },
  {
   "cell_type": "markdown",
   "source": [
    "Ainsi, nous allons supprimer : Identifiant de document, Reference document, 1 Articles CGI, 2 Articles CGI, 3 Articles CGI, 4 Articles CGI, 5 Articles CGI, B/T/Q, Prefixe de section, No Volume, 1er lot, Surface Carrez du 1er lot, 2eme lot, Surface Carrez du 2eme lot, 3eme lot, Surface Carrez du 3eme lot, 4eme lot, Surface Carrez du 4eme lot, 5eme lot, Surface Carrez du 5eme lot, Identifiant local, Nature culture speciale."
   ],
   "metadata": {
    "collapsed": false
   }
  },
  {
   "cell_type": "code",
   "execution_count": 10,
   "outputs": [],
   "source": [
    "#Suppression des colonnes contenant beaucoup de valeurs NaN\n",
    "\n",
    "colonnes_a_supprimer = [\"Identifiant de document\", \"Reference document\", \"1 Articles CGI\", \"2 Articles CGI\", \"3 Articles CGI\", \"4 Articles CGI\",\"5 Articles CGI\",\"B/T/Q\",\"Prefixe de section\",\"No Volume\",\"1er lot\",\"Surface Carrez du 1er lot\",\"2eme lot\",\"Surface Carrez du 2eme lot\",\"3eme lot\",\"Surface Carrez du 3eme lot\", \"4eme lot\", \"Surface Carrez du 4eme lot\",\"5eme lot\", \"Surface Carrez du 5eme lot\", \"Identifiant local\", \"Nature culture speciale\"]\n",
    "\n",
    "data = data.drop(colonnes_a_supprimer, axis=1)"
   ],
   "metadata": {
    "collapsed": false,
    "ExecuteTime": {
     "start_time": "2023-06-21T22:16:39.591625Z",
     "end_time": "2023-06-21T22:16:45.940110Z"
    }
   }
  },
  {
   "cell_type": "markdown",
   "source": [
    "Ensuite, nous vérifions s'il n'y a pas de doublons dans les lignes. Si oui, nous les supprimons."
   ],
   "metadata": {
    "collapsed": false
   }
  },
  {
   "cell_type": "code",
   "execution_count": 25,
   "outputs": [
    {
     "name": "stdout",
     "output_type": "stream",
     "text": [
      "         No disposition Date mutation Nature mutation  Valeur fonciere  \\\n",
      "17                    1    04/01/2022           Vente         134000.0   \n",
      "19                    1    04/01/2022           Vente         134000.0   \n",
      "21                    1    10/01/2022           Vente         580000.0   \n",
      "23                    1    10/01/2022           Vente         580000.0   \n",
      "24                    1    10/01/2022           Vente         580000.0   \n",
      "...                 ...           ...             ...              ...   \n",
      "3803874               1    23/12/2022         Echange         934000.0   \n",
      "3803875               1    23/12/2022         Echange         934000.0   \n",
      "3803876               1    23/12/2022         Echange         934000.0   \n",
      "3803877               1    23/12/2022         Echange         934000.0   \n",
      "3803879               2    23/12/2022         Echange          70000.0   \n",
      "\n",
      "         No voie Type de voie Code voie         Voie  Code postal  \\\n",
      "17          13.0          RUE      1070    DE CUIRON       1000.0   \n",
      "19          13.0          RUE      1070    DE CUIRON       1000.0   \n",
      "21          45.0          RUE      0119   DES COMBES       1500.0   \n",
      "23          45.0          RUE      0119   DES COMBES       1500.0   \n",
      "24          45.0          RUE      0119   DES COMBES       1500.0   \n",
      "...          ...          ...       ...          ...          ...   \n",
      "3803874      5.0          VLA      3488  FAISANDERIE      75016.0   \n",
      "3803875      5.0          VLA      3488  FAISANDERIE      75016.0   \n",
      "3803876      5.0          VLA      3488  FAISANDERIE      75016.0   \n",
      "3803877      5.0          VLA      3488  FAISANDERIE      75016.0   \n",
      "3803879     67.0          RUE      1255     BRANCION      75015.0   \n",
      "\n",
      "                 Commune  ... Code commune  Section No plan  Nombre de lots  \\\n",
      "17       BOURG-EN-BRESSE  ...           53       CS     321               1   \n",
      "19       BOURG-EN-BRESSE  ...           53       CS     321               1   \n",
      "21              AMBRONAY  ...            7       ZN     521               0   \n",
      "23              AMBRONAY  ...            7       ZN     521               0   \n",
      "24              AMBRONAY  ...            7       ZN     521               0   \n",
      "...                  ...  ...          ...      ...     ...             ...   \n",
      "3803874         PARIS 16  ...          116       EE      64               2   \n",
      "3803875         PARIS 16  ...          116       EE      64               1   \n",
      "3803876         PARIS 16  ...          116       EE      64               1   \n",
      "3803877         PARIS 16  ...          116       EE      64               2   \n",
      "3803879         PARIS 15  ...          115       AJ      28               2   \n",
      "\n",
      "         Code type local   Type local Surface reelle bati  \\\n",
      "17                   3.0   Dépendance                 0.0   \n",
      "19                   3.0   Dépendance                 0.0   \n",
      "21                   3.0   Dépendance                 0.0   \n",
      "23                   3.0   Dépendance                 0.0   \n",
      "24                   3.0   Dépendance                 0.0   \n",
      "...                  ...          ...                 ...   \n",
      "3803874              3.0   Dépendance                 0.0   \n",
      "3803875              3.0   Dépendance                 0.0   \n",
      "3803876              3.0   Dépendance                 0.0   \n",
      "3803877              3.0   Dépendance                 0.0   \n",
      "3803879              2.0  Appartement                15.0   \n",
      "\n",
      "         Nombre pieces principales  Nature culture Surface terrain  \n",
      "17                             0.0             NaN             NaN  \n",
      "19                             0.0             NaN             NaN  \n",
      "21                             0.0               S           496.0  \n",
      "23                             0.0               S           496.0  \n",
      "24                             0.0               S           496.0  \n",
      "...                            ...             ...             ...  \n",
      "3803874                        0.0             NaN             NaN  \n",
      "3803875                        0.0             NaN             NaN  \n",
      "3803876                        0.0             NaN             NaN  \n",
      "3803877                        0.0             NaN             NaN  \n",
      "3803879                        1.0             NaN             NaN  \n",
      "\n",
      "[773522 rows x 21 columns]\n"
     ]
    }
   ],
   "source": [
    "# Recherche et suppression des doublons\n",
    "\n",
    "doublons = data.duplicated(keep=False)\n",
    "doublons_col = data[doublons]\n",
    "doublons_toutes_col = doublons_col.duplicated(keep=False)\n",
    "print(doublons_col[doublons_toutes_col])\n",
    "\n",
    "doublons_col = doublons_col.drop(doublons_col[doublons_toutes_col].index)"
   ],
   "metadata": {
    "collapsed": false,
    "ExecuteTime": {
     "start_time": "2023-06-22T11:34:24.236435Z",
     "end_time": "2023-06-22T11:34:36.367722Z"
    }
   }
  },
  {
   "cell_type": "markdown",
   "source": [
    "Il nous reste encore des valeurs manquantes. Pour cela, nous allons convertir la colonne Valeur foncière en float et remplacer les virgules par des points afin de pouvoir rajouter les valeurs manquantes."
   ],
   "metadata": {
    "collapsed": false
   }
  },
  {
   "cell_type": "code",
   "execution_count": 33,
   "outputs": [],
   "source": [
    "#Conversion en float et remplacement des virgules\n",
    "\n",
    "data['Valeur fonciere'] = data['Valeur fonciere'].astype(str)\n",
    "data['Valeur fonciere'] = data['Valeur fonciere'].str.replace(',', '.')\n",
    "data['Valeur fonciere'] = data['Valeur fonciere'].astype(float)"
   ],
   "metadata": {
    "collapsed": false,
    "ExecuteTime": {
     "start_time": "2023-06-22T11:44:37.044485Z",
     "end_time": "2023-06-22T11:44:41.214790Z"
    }
   }
  },
  {
   "cell_type": "markdown",
   "source": [
    "Pour remplir les valeurs manquantes, nous allons mettre la médiane de chaque colonne. En effet, la médiane est une mesure de tendance centrale qui représente la valeur au milieu de l'ensemble de données trié. Contrairement à la moyenne, qui peut être sensible aux valeurs aberrantes, la médiane est une mesure qui est moins sensible aux valeurs extrêmes. Cela permet la distribution des valeurs de la colonne et minimiser les effets des valeurs aberrantes. Pour les colonnes qui ne possèdent pas de valeurs chiffrées, nous allons supprimer les lignes."
   ],
   "metadata": {
    "collapsed": false
   }
  },
  {
   "cell_type": "code",
   "execution_count": 35,
   "outputs": [
    {
     "name": "stdout",
     "output_type": "stream",
     "text": [
      "Date mutation       False\n",
      "Nature mutation     False\n",
      "Type de voie         True\n",
      "Code voie            True\n",
      "Voie                 True\n",
      "Commune             False\n",
      "Code departement    False\n",
      "Section              True\n",
      "Type local           True\n",
      "Nature culture       True\n",
      "dtype: bool\n"
     ]
    }
   ],
   "source": [
    "import numpy as np\n",
    "\n",
    "# Sélection des colonnes non numériques qui contiennent des valeurs nulles\n",
    "columns_with_nonnumeric_nulls = data.select_dtypes(exclude=[np.number]).isnull().any()\n",
    "print(columns_with_nonnumeric_nulls)"
   ],
   "metadata": {
    "collapsed": false,
    "ExecuteTime": {
     "start_time": "2023-06-22T11:59:58.106513Z",
     "end_time": "2023-06-22T11:59:58.130089Z"
    }
   }
  },
  {
   "cell_type": "code",
   "execution_count": null,
   "outputs": [],
   "source": [
    "# Remplacement des valeurs manquantes\n",
    "for col in data.columns:\n",
    "    if data[col].isnull().any():\n",
    "        data[col] = data[col].fillna(data[col].median())\n",
    "\n",
    "\n",
    "print(data)"
   ],
   "metadata": {
    "collapsed": false
   }
  }
 ],
 "metadata": {
  "kernelspec": {
   "display_name": "Python 3",
   "language": "python",
   "name": "python3"
  },
  "language_info": {
   "codemirror_mode": {
    "name": "ipython",
    "version": 2
   },
   "file_extension": ".py",
   "mimetype": "text/x-python",
   "name": "python",
   "nbconvert_exporter": "python",
   "pygments_lexer": "ipython2",
   "version": "2.7.6"
  }
 },
 "nbformat": 4,
 "nbformat_minor": 0
}
